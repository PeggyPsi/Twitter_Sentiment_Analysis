{
 "cells": [
  {
   "cell_type": "code",
   "execution_count": 1,
   "metadata": {},
   "outputs": [],
   "source": [
    "import pandas as pd\n",
    "import numpy as np\n",
    "import csv\n",
    "import matplotlib.pyplot as plt\n",
    "# allow plots to appear within the notebook\n",
    "%matplotlib inline\n",
    "\n",
    "from sklearn import metrics\n",
    "# KNN\n",
    "from sklearn.neighbors import KNeighborsClassifier\n",
    "# SVM\n",
    "from sklearn import svm"
   ]
  },
  {
   "cell_type": "markdown",
   "metadata": {},
   "source": [
    "### ....................................................................................................................................................................................."
   ]
  },
  {
   "cell_type": "markdown",
   "metadata": {},
   "source": [
    "## LOAD DATA (Embedded Tweets)"
   ]
  },
  {
   "cell_type": "markdown",
   "metadata": {},
   "source": [
    "##### Word2Vec"
   ]
  },
  {
   "cell_type": "code",
   "execution_count": 2,
   "metadata": {},
   "outputs": [],
   "source": [
    "# vector_size = 50\n",
    "train_word2vec_50 = pd.read_pickle(\"./train_tweets_vectorized_Word2Vec_vs50.pkl\")\n",
    "test_word2vec_50 = pd.read_pickle(\"./test_tweets_vectorized_Word2Vec_vs50.pkl\")\n",
    "\n",
    "# vector_size = 100\n",
    "train_word2vec_100 = pd.read_pickle(\"./train_tweets_vectorized_Word2Vec_vs100.pkl\")\n",
    "test_word2vec_100 = pd.read_pickle(\"./test_tweets_vectorized_Word2Vec_vs100.pkl\")\n",
    "\n",
    "# vector_size = 200\n",
    "train_word2vec_200 = pd.read_pickle(\"./train_tweets_vectorized_Word2Vec_vs200.pkl\")\n",
    "test_word2vec_200 = pd.read_pickle(\"./test_tweets_vectorized_Word2Vec_vs200.pkl\")\n",
    "\n",
    "# vector_size = 300\n",
    "train_word2vec_300 = pd.read_pickle(\"./train_tweets_vectorized_Word2Vec_vs300.pkl\")\n",
    "test_word2vec_300 = pd.read_pickle(\"./test_tweets_vectorized_Word2Vec_vs300.pkl\")"
   ]
  },
  {
   "cell_type": "markdown",
   "metadata": {},
   "source": [
    "##### Bag Of Words"
   ]
  },
  {
   "cell_type": "code",
   "execution_count": 23,
   "metadata": {},
   "outputs": [],
   "source": [
    "train_bagofwords = pd.read_pickle(\"./train_tweets_vectorized_BagOfWords.pkl\")\n",
    "test_bagofwords = pd.read_pickle(\"./test_tweets_vectorized_BagOfWords.pkl\")"
   ]
  },
  {
   "cell_type": "markdown",
   "metadata": {},
   "source": [
    "##### TF_IDF"
   ]
  },
  {
   "cell_type": "code",
   "execution_count": 24,
   "metadata": {},
   "outputs": [],
   "source": [
    "train_tfidf = pd.read_pickle(\"./train_tweets_vectorized_TfIdf.pkl\")\n",
    "test_tfidf = pd.read_pickle(\"./test_tweets_vectorized_TfIdf.pkl\")"
   ]
  },
  {
   "cell_type": "markdown",
   "metadata": {},
   "source": [
    "#### ..."
   ]
  },
  {
   "cell_type": "code",
   "execution_count": 5,
   "metadata": {},
   "outputs": [
    {
     "name": "stdout",
     "output_type": "stream",
     "text": [
      "28057\n"
     ]
    }
   ],
   "source": [
    "# Train dataset target\n",
    "train_target = list(train_word2vec_300['Sentiment'])\n",
    "print(len(train_target))"
   ]
  },
  {
   "cell_type": "code",
   "execution_count": 6,
   "metadata": {},
   "outputs": [],
   "source": [
    "#Load train dataset\n",
    "def load_data(file, col_names, n=0):\n",
    "    #Read all data\n",
    "    if n==0:\n",
    "        data = pd.read_csv(file, sep=\"\\t\", header=None, names=col_names, quoting=csv.QUOTE_NONE, error_bad_lines=False)\n",
    "    #Read specific number of rows of data\n",
    "    else:\n",
    "        data = pd.read_csv(file, nrows=n, sep=\"\\t\", header=None, names=col_names, quoting=csv.QUOTE_NONE, error_bad_lines=False)\n",
    "    return data"
   ]
  },
  {
   "cell_type": "code",
   "execution_count": 7,
   "metadata": {},
   "outputs": [],
   "source": [
    "# Actual Test Prediction\n",
    "file = \"../twitter_data/SemEval2017_task4_subtaskA_test_english_gold.txt\"\n",
    "col_names = ['TweetID', 'Sentiment']\n",
    "actual_prediction = load_data(file, col_names)"
   ]
  },
  {
   "cell_type": "code",
   "execution_count": 8,
   "metadata": {},
   "outputs": [],
   "source": [
    "# Remove from actual predictions rows that include empty tweets\n",
    "for i in range(0, actual_prediction.shape[0]):\n",
    "    if i not in test_word2vec_50.index:\n",
    "        actual_prediction = actual_prediction.drop(actual_prediction.index[i])\n",
    "\n",
    "# list of actual prediction\n",
    "actual_prediction = list(actual_prediction['Sentiment'])\n",
    "# print(len(actual_prediction))"
   ]
  },
  {
   "cell_type": "markdown",
   "metadata": {},
   "source": [
    "### ....................................................................................................................................................................................."
   ]
  },
  {
   "cell_type": "markdown",
   "metadata": {},
   "source": [
    "## TRAINING MODELS"
   ]
  },
  {
   "cell_type": "code",
   "execution_count": 9,
   "metadata": {},
   "outputs": [],
   "source": [
    "# Target values\n",
    "target = ['positive', 'negative', 'neutral']"
   ]
  },
  {
   "cell_type": "markdown",
   "metadata": {},
   "source": [
    "### K-nearest neighbors (KNN) classification"
   ]
  },
  {
   "cell_type": "code",
   "execution_count": 10,
   "metadata": {},
   "outputs": [],
   "source": [
    "def KNN_Classification(k, data, target):\n",
    "    # \"Instantiate\" the \"estimator\"\n",
    "    knn = KNeighborsClassifier(n_neighbors=k) \n",
    "    # Fit the model with data\n",
    "    knn.fit(data, target)\n",
    "    return knn"
   ]
  },
  {
   "cell_type": "code",
   "execution_count": 11,
   "metadata": {},
   "outputs": [],
   "source": [
    "def KNN_Prediction(knn, data, actual_prediction):\n",
    "    # predict the response for new observations\n",
    "    prediction = knn.predict(data)\n",
    "    accuracy = metrics.accuracy_score(actual_prediction, prediction)\n",
    "    return accuracy"
   ]
  },
  {
   "cell_type": "code",
   "execution_count": 12,
   "metadata": {},
   "outputs": [],
   "source": [
    "def KNN(train_data, train_target, test_data, actual_prediction, k):\n",
    "    knn = KNN_Classification(k, train_data, train_target)\n",
    "    pred_acur = KNN_Prediction(knn, test_data, actual_prediction)\n",
    "    return pred_acur"
   ]
  },
  {
   "cell_type": "markdown",
   "metadata": {},
   "source": [
    "### ---------------------------------------------------------------------------------------------------------------------------------------------"
   ]
  },
  {
   "cell_type": "markdown",
   "metadata": {},
   "source": [
    "### Support Vector Machines (SVM)"
   ]
  },
  {
   "cell_type": "code",
   "execution_count": 13,
   "metadata": {},
   "outputs": [],
   "source": [
    "def SVM_Classification(data, target):\n",
    "    # \"Instantiate\" the \"estimator\"\n",
    "    SVM = svm.SVC(C=1.0, kernel='linear', degree=3, gamma='auto')\n",
    "    # Fit the model with data\n",
    "    SVM.fit(data, target)\n",
    "    return SVM"
   ]
  },
  {
   "cell_type": "code",
   "execution_count": 14,
   "metadata": {},
   "outputs": [],
   "source": [
    "def SVM_Prediction(SVM, data, actual_prediction):\n",
    "    # predict the response for new observations\n",
    "    prediction = SVM.predict(data)\n",
    "    accuracy = metrics.accuracy_score(actual_prediction, prediction)\n",
    "    return accuracy"
   ]
  },
  {
   "cell_type": "code",
   "execution_count": 15,
   "metadata": {},
   "outputs": [],
   "source": [
    "def SVM(train_data, train_target, test_data, actual_prediction):\n",
    "    SVM = SVM_Classification(train_data, train_target)\n",
    "    pred_acur = SVM_Prediction(SVM, test_data, actual_prediction)\n",
    "    return pred_acur"
   ]
  },
  {
   "cell_type": "markdown",
   "metadata": {},
   "source": [
    "### ---------------------------------------------------------------------------------------------------------------------------------------------"
   ]
  },
  {
   "cell_type": "code",
   "execution_count": 16,
   "metadata": {},
   "outputs": [],
   "source": [
    "# Store results from training and predictions\n",
    "results_KNN = \"KNN ACCURACY\\n\"\n",
    "results_SVM = \"SVM ACCURACY\\n\""
   ]
  },
  {
   "cell_type": "markdown",
   "metadata": {},
   "source": [
    "##### Word2Vec"
   ]
  },
  {
   "cell_type": "code",
   "execution_count": 17,
   "metadata": {},
   "outputs": [],
   "source": [
    "# 50\n",
    "train_data = train_word2vec_50['Vector'].values\n",
    "test_data = test_word2vec_50['Vector'].values\n",
    "\n",
    "\n",
    "\n",
    "results_KNN += \"Word2Vec(50) : \" + str(KNN(list(train_data), train_target, list(test_data), actual_prediction, 5)) + \"\\n\"\n",
    "results_SVM += \"Word2Vec(50) : \" + str(SVM(list(train_data), train_target, list(test_data), actual_prediction)) + \"\\n\"\n",
    "\n",
    "# print(\"KNN accuracy - Word2Vec(50) :\",  KNN(list(train_data), train_target, list(test_data), actual_prediction, 5))\n",
    "# print(\"SVM accuracy - Word2Vec(50) :\",  SVM(list(train_data), train_target, list(test_data), actual_prediction))"
   ]
  },
  {
   "cell_type": "code",
   "execution_count": 18,
   "metadata": {},
   "outputs": [],
   "source": [
    "# 100\n",
    "train_data = train_word2vec_100['Vector'].values\n",
    "test_data = test_word2vec_100['Vector'].values\n",
    "\n",
    "results_KNN += \"Word2Vec(100) : \" + str(KNN(list(train_data), train_target, list(test_data), actual_prediction, 5)) + \"\\n\"\n",
    "results_SVM += \"Word2Vec(100) : \" + str(SVM(list(train_data), train_target, list(test_data), actual_prediction)) + \"\\n\""
   ]
  },
  {
   "cell_type": "code",
   "execution_count": 19,
   "metadata": {},
   "outputs": [],
   "source": [
    "# 200\n",
    "train_data = train_word2vec_200['Vector'].values\n",
    "test_data = test_word2vec_200['Vector'].values\n",
    "\n",
    "results_KNN += \"Word2Vec(200) : \"\n",
    "results_SVM += \"Word2Vec(200) : \" + str(SVM(list(train_data), train_target, list(test_data), actual_prediction)) + \"\\n\""
   ]
  },
  {
   "cell_type": "code",
   "execution_count": 20,
   "metadata": {},
   "outputs": [
    {
     "data": {
      "text/plain": [
       "Text(0,0.5,'Testing Accuracy')"
      ]
     },
     "execution_count": 20,
     "metadata": {},
     "output_type": "execute_result"
    },
    {
     "data": {
      "image/png": "[encoded data removed]",
      "text/plain": [
       "<Figure size 432x288 with 1 Axes>"
      ]
     },
     "metadata": {
      "needs_background": "light"
     },
     "output_type": "display_data"
    }
   ],
   "source": [
    "# Find best k for KNN in above model (wordvec with vector size equal to 200)\n",
    "k_range = list(range(1, 10))\n",
    "scores = []\n",
    "for k in k_range:\n",
    "    scores.append(KNN(list(train_data), train_target, list(test_data), actual_prediction, k))\n",
    "results_KNN += str(max(scores)) + \"\\n\"\n",
    "# Plot the relationship between K and testing accuracy\n",
    "plt.plot(k_range, scores)\n",
    "plt.xlabel('Value of K for KNN')\n",
    "plt.ylabel('Testing Accuracy')"
   ]
  },
  {
   "cell_type": "code",
   "execution_count": 21,
   "metadata": {
    "scrolled": true
   },
   "outputs": [],
   "source": [
    "# 300\n",
    "train_data = train_word2vec_300['Vector'].values\n",
    "test_data = test_word2vec_300['Vector'].values\n",
    "\n",
    "results_KNN += \"Word2Vec(300) : \" + str(KNN(list(train_data), train_target, list(test_data), actual_prediction, 5)) + \"\\n\"\n",
    "results_SVM += \"Word2Vec(300) : \" + str(SVM(list(train_data), train_target, list(test_data), actual_prediction)) + \"\\n\""
   ]
  },
  {
   "cell_type": "markdown",
   "metadata": {},
   "source": [
    "##### Bag Of Words"
   ]
  },
  {
   "cell_type": "code",
   "execution_count": 25,
   "metadata": {},
   "outputs": [],
   "source": [
    "train_bagofwords = train_bagofwords[:20000]\n",
    "test_bagofwords = test_bagofwords[:20000]\n",
    "train_target = train_target[:20000]\n",
    "actual_prediction = actual_prediction[:20000]\n",
    "\n",
    "results_KNN += \"Bag Of Words : \" + str(KNN(train_bagofwords, train_target, test_bagofwords, actual_prediction, 5)) + \"\\n\"\n",
    "results_SVM += \"Bag Of Words : \" + str(SVM(train_bagofwords, train_target, test_bagofwords, actual_prediction)) + \"\\n\""
   ]
  },
  {
   "cell_type": "markdown",
   "metadata": {},
   "source": [
    "##### TF-IDF"
   ]
  },
  {
   "cell_type": "code",
   "execution_count": 26,
   "metadata": {},
   "outputs": [],
   "source": [
    "train_tfidf = train_tfidf[:20000]\n",
    "test_tfidf = test_tfidf[:20000]\n",
    "train_target = train_target[:20000]\n",
    "actual_prediction = actual_prediction[:20000]\n",
    "\n",
    "results_KNN += \"TF-IDF : \" + str(KNN(train_tfidf, train_target, test_tfidf, actual_prediction, 5)) + \"\\n\"\n",
    "results_SVM += \"TF-IDF : \" + str(SVM(train_tfidf, train_target, test_tfidf, actual_prediction)) + \"\\n\""
   ]
  },
  {
   "cell_type": "code",
   "execution_count": 27,
   "metadata": {},
   "outputs": [
    {
     "name": "stdout",
     "output_type": "stream",
     "text": [
      "KNN ACCURACY\n",
      "Word2Vec(50) : 0.4751448861317443\n",
      "Word2Vec(100) : 0.4744102522243082\n",
      "Word2Vec(200) : 0.5134274753081381\n",
      "Word2Vec(300) : 0.473593992327157\n",
      "Bag Of Words : 0.46861480695453434\n",
      "TF-IDF : 0.4178434413517264\n",
      "\n",
      "SVM ACCURACY\n",
      "Word2Vec(50) : 0.24300057138192802\n",
      "Word2Vec(100) : 0.3798873561341931\n",
      "Word2Vec(200) : 0.48322585911354177\n",
      "Word2Vec(300) : 0.2129622071667619\n",
      "Bag Of Words : 0.4205370990123255\n",
      "TF-IDF : 0.4584115582401437\n",
      "\n"
     ]
    }
   ],
   "source": [
    "print(results_KNN)\n",
    "print(results_SVM)\n",
    "file = open(\"./RESULTS.txt\", \"w\")\n",
    "file.write(results_KNN)\n",
    "file.write(\"\\n\")\n",
    "file.write(results_SVM)\n",
    "file.close()"
   ]
  },
  {
   "cell_type": "code",
   "execution_count": null,
   "metadata": {},
   "outputs": [],
   "source": []
  }
 ],
 "metadata": {
  "kernelspec": {
   "display_name": "Python 3",
   "language": "python",
   "name": "python3"
  },
  "language_info": {
   "codemirror_mode": {
    "name": "ipython",
    "version": 3
   },
   "file_extension": ".py",
   "mimetype": "text/x-python",
   "name": "python",
   "nbconvert_exporter": "python",
   "pygments_lexer": "ipython3",
   "version": "3.7.3"
  }
 },
 "nbformat": 4,
 "nbformat_minor": 2
}
